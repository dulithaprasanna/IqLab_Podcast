{
 "cells": [
  {
   "cell_type": "code",
   "execution_count": null,
   "id": "5e54ce70",
   "metadata": {},
   "outputs": [],
   "source": [
    "%matplotlib widget"
   ]
  },
  {
   "cell_type": "code",
   "execution_count": null,
   "id": "80e44d5c",
   "metadata": {},
   "outputs": [],
   "source": [
    "from sys import stdout\n",
    "\n",
    "import matplotlib.pyplot as plt\n",
    "import mdtraj\n",
    "import nglview\n",
    "import numpy as np\n",
    "import pandas\n",
    "\n",
    "from openmm import *\n",
    "from openmm.app import *\n",
    "from openmm.unit import *"
   ]
  },
  {
   "cell_type": "code",
   "execution_count": null,
   "id": "de01dd64",
   "metadata": {},
   "outputs": [],
   "source": [
    "dt = 2*femtoseconds\n",
    "temperature = 300*kelvin\n",
    "nonbondedCutoff = 3*nanometer\n",
    "steps = 1e5"
   ]
  },
  {
   "cell_type": "code",
   "execution_count": null,
   "id": "e4f10226",
   "metadata": {},
   "outputs": [],
   "source": [
    "pdb = PDBFile('alanine-dipeptide.pdb')\n",
    "print(pdb.topology)\n",
    "forcefield = ForceField('amber14-all.xml')\n",
    "system = forcefield.createSystem(\n",
    "    pdb.topology, nonbondedCutoff=nonbondedCutoff, constraints=HBonds)\n",
    "integrator = LangevinIntegrator(temperature, 1/picosecond, dt )\n",
    "simulation = Simulation(pdb.topology, system, integrator)\n",
    "simulation.context.setPositions(pdb.positions)\n",
    "simulation.minimizeEnergy()"
   ]
  },
  {
   "cell_type": "code",
   "execution_count": null,
   "id": "04dc850d",
   "metadata": {},
   "outputs": [],
   "source": [
    "simulation.reporters = []\n",
    "simulation.reporters.append(DCDReporter('traj1.dcd', 100))\n",
    "simulation.reporters.append(StateDataReporter(stdout, 1000, step=True,\n",
    "                                              temperature=True, elapsedTime=True))\n",
    "simulation.reporters.append(StateDataReporter(\"scalars1.csv\", 100, time=True,\n",
    "                                              potentialEnergy=True, totalEnergy=True, temperature=True))\n",
    "simulation.step(steps)\n",
    "\n",
    "# The last line is only needed for Windows users,\n",
    "# to close the DCD file before it can be opened by nglview.\n",
    "del simulation"
   ]
  },
  {
   "cell_type": "code",
   "execution_count": null,
   "id": "a5784b96",
   "metadata": {},
   "outputs": [],
   "source": [
    "df1 = pandas.read_csv(\"scalars1.csv\")\n",
    "df1.head(10)"
   ]
  },
  {
   "cell_type": "code",
   "execution_count": null,
   "id": "e6f8e5b1",
   "metadata": {},
   "outputs": [],
   "source": [
    "plt.plot(df1['Potential Energy (kJ/mole)'])\n",
    "plt.show()\n",
    "plt.close()"
   ]
  },
  {
   "cell_type": "code",
   "execution_count": null,
   "id": "646dddb1",
   "metadata": {},
   "outputs": [],
   "source": [
    "traj1 = mdtraj.load('traj1.dcd', top='alanine-dipeptide.pdb')\n",
    "traj1.superpose(traj1, 0)\n",
    "nglview.show_mdtraj(traj1)"
   ]
  },
  {
   "cell_type": "code",
   "execution_count": null,
   "id": "f158244a",
   "metadata": {},
   "outputs": [],
   "source": [
    "pdb = PDBFile('alanine-dipeptide.pdb')\n",
    "modeller = Modeller(pdb.topology, pdb.positions)\n",
    "forcefield = ForceField('amber14-all.xml', 'amber14/tip3pfb.xml')\n",
    "modeller.addSolvent(forcefield, model='tip3p', padding=1*nanometer)\n",
    "print(modeller.topology)\n",
    "# Write a PDB file to provide a topology of the solvated\n",
    "# system to MDTraj below.\n",
    "with open('init_water.pdb', 'w') as outfile:\n",
    "    PDBFile.writeFile(modeller.topology, modeller.positions, outfile)\n",
    "\n",
    "# The modeller builds a periodic box with the solute and solvent molecules.\n",
    "# PME is the method to compute long-range electristatic interactions in\n",
    "# periodic systems.\n",
    "system = forcefield.createSystem(\n",
    "    modeller.topology, nonbondedMethod=PME, constraints=HBonds)\n",
    "temperature = 300 * kelvin\n",
    "pressure = 1 * bar\n",
    "integrator = LangevinIntegrator(temperature, 1/picosecond, dt)\n",
    "system.addForce(MonteCarloBarostat(pressure, temperature))\n",
    "simulation = Simulation(modeller.topology, system, integrator)\n",
    "simulation.context.setPositions(modeller.positions)\n",
    "simulation.minimizeEnergy()\n",
    "simulation.reporters.append(DCDReporter('traj_water.dcd', 100))\n",
    "simulation.reporters.append(StateDataReporter(stdout, 1000, step=True,\n",
    "                                              temperature=True, elapsedTime=True))\n",
    "simulation.reporters.append(StateDataReporter(\"scalars_water.csv\", 100, time=True,\n",
    "                                              potentialEnergy=True, totalEnergy=True, temperature=True))\n",
    "simulation.step(steps)\n",
    "\n",
    "# The last line is only needed for Windows users,\n",
    "# to close the DCD file before it can be opened by nglview.\n",
    "del simulation"
   ]
  },
  {
   "cell_type": "code",
   "execution_count": null,
   "id": "33abeafe",
   "metadata": {},
   "outputs": [],
   "source": [
    "df_water = pandas.read_csv(\"scalars_water.csv\")"
   ]
  },
  {
   "cell_type": "code",
   "execution_count": null,
   "id": "6abe2bfe",
   "metadata": {},
   "outputs": [],
   "source": [
    "plt.plot(df_water['Potential Energy (kJ/mole)'])\n",
    "plt.show()\n",
    "plt.close()"
   ]
  },
  {
   "cell_type": "code",
   "execution_count": null,
   "id": "7b350ad1",
   "metadata": {},
   "outputs": [],
   "source": [
    "traj3 = mdtraj.load('traj_water.dcd', top='init_water.pdb')\n",
    "view = nglview.show_mdtraj(traj3)\n",
    "view.clear_representations()\n",
    "view.add_licorice()\n",
    "view.add_unitcell()\n",
    "view"
   ]
  },
  {
   "cell_type": "code",
   "execution_count": null,
   "id": "d5b4293e",
   "metadata": {},
   "outputs": [],
   "source": []
  }
 ],
 "metadata": {
  "kernelspec": {
   "display_name": "Python 3 (ipykernel)",
   "language": "python",
   "name": "python3"
  },
  "language_info": {
   "codemirror_mode": {
    "name": "ipython",
    "version": 3
   },
   "file_extension": ".py",
   "mimetype": "text/x-python",
   "name": "python",
   "nbconvert_exporter": "python",
   "pygments_lexer": "ipython3",
   "version": "3.9.7"
  }
 },
 "nbformat": 4,
 "nbformat_minor": 5
}
